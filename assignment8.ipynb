{
 "cells": [
  {
   "cell_type": "markdown",
   "metadata": {},
   "source": [
    "# Assignment 8\n",
    "\n",
    "Plotting with `matplotlib`\n",
    "\n",
    "## Problem 1\n",
    "\n",
    "Use the data in [poro_perm.csv](poro_perm.csv) to reproduce the following plot with `matplotlib` in Python.\n",
    "\n",
    "<img src=\"./images/poro_perm.png\" width=700>\n",
    "\n",
    "Since you've already developed fitting routines in [Assignment 7](https://github.com/PGE323M-Students/assignment7/) you should use them to perform the analysis on the data.  To avoid having to reproduce or copy the code from Assignment 7, you can load the class directly.  First, from the Terminal command line, run the following command to convert the Jupyter notebook into a regular Python file\n",
    "\n",
    "```bash\n",
    "jupyter nbconvert assignment7.ipynb --to python\n",
    "```\n",
    "\n",
    "then move the newly created `assignment7.py` into this repository, i.e. the same location as `assignment8.ipynb` and execute the following line in this notebook\n",
    "\n",
    "```python\n",
    "from assignment7 import KozenyCarmen\n",
    "```\n",
    "\n",
    "This will load the `KozenyCarmen` class directly into the namespace of the notebook and it will be available for use.  If you use this approach, don't forget to add `assignment7.py` to this repository when you commit your final solution for testing.\n",
    "\n",
    "Please note that the plot must be **exactly the same** in order for the tests to pass, so take care to note the small details.  Here are a couple of tips:\n",
    "\n",
    " * For plotting the fit lines, use a Numpy `linspace` that goes from 0 to 0.012 with 50 points.\n",
    " \n",
    " * The $\\LaTeX$ source for the $x$-axis label is `\\frac{\\phi^3}{(1-\\phi)^2}`.  It shouldn't be too difficult for you to figure out the $y$-axis label."
   ]
  },
  {
   "cell_type": "code",
   "execution_count": 1,
   "metadata": {},
   "outputs": [],
   "source": [
    "import matplotlib\n",
    "import matplotlib.pyplot as plt\n",
    "import numpy as np\n",
    "from assignment7 import KozenyCarmen"
   ]
  },
  {
   "cell_type": "code",
   "execution_count": 3,
   "metadata": {},
   "outputs": [],
   "source": [
    "def kozeny_carmen_plot(filename, **kwargs):   \n",
    "    kc = KozenyCarmen(filename)\n",
    "    fit = kc.fit()\n",
    "    zero_fit = kc.fit_through_zero()\n",
    "\n",
    "\n",
    "    phi = kc.df['porosity'].values\n",
    "    perm = kc.df['permeability'].values\n",
    "\n",
    "    x = np.linspace(0, 0.012, 50)\n",
    "\n",
    "    \n",
    "    fig, ax = plt.subplots(**kwargs)\n",
    "    ax.scatter(phi ** 3 / (1 - phi) ** 2, perm, label = 'data', color = 'black')\n",
    "\n",
    "    ax.plot(x, fit[0] * x, label='Fit through 0', color ='blue')\n",
    "\n",
    "    ax.set_axisbelow(True)\n",
    "    ax.set_xlabel(r'$\\frac{\\phi^3}{1-\\phi)^2}$')\n",
    "    ax.set_ylabel(r'$\\kappa$ (mD)')\n",
    "    ax.grid(True)\n",
    "    ax.legend()\n",
    "\n",
    "\n",
    "\n",
    "    return fig"
   ]
  },
  {
   "cell_type": "markdown",
   "metadata": {},
   "source": [
    "## Problem 2\n",
    "\n",
    "Complete the function below to create the following contour plot.\n",
    "\n",
    "<img src='./images/Nechelik.png' width=800>\n",
    "\n",
    "Read in the [Nechelik.dat](Nechelik.dat) file which contains actual, estimated porosity of a field at equally spaced $x$,$y$ positions in the reservoir. Note that there are $54$ grid blocks/porosity values in the $x$ direction and $44$ in the $y$ direction i.e. you need a $44 \\times 54$ porosity matrix. Each grid block is a square with sides $130.75$ ft.\n",
    "\n",
    "As in Problem 1, the plot must be **exactly the same** for the tests to pass.  Refer to the tips above, and be sure to set the aspect ratio of the plot to `'equal'`."
   ]
  },
  {
   "cell_type": "code",
   "execution_count": 2,
   "metadata": {},
   "outputs": [],
   "source": [
    "def contour_plot(filename, **kwargs):\n",
    "    \n",
    "    data = np.loadtxt(filename)\n",
    "\n",
    "    x = np.linspace(0, 130.75 * data.shape[1], num=data.shape[1])\n",
    "    y = np.linspace(0, 130.75 * data.shape[0], num=data.shape[0])\n",
    "\n",
    "    X, Y = np.meshgrid(x, y[::-1])\n",
    "\n",
    "    Z = np.where(np.isnan(data), np.nan, data)\n",
    "\n",
    "    \n",
    "    fig, ax = plt.subplots(**kwargs)\n",
    "    cb = ax.contourf(X, Y, Z)\n",
    "    ax.set_aspect('equal')\n",
    "    fig.colorbar(cb);\n",
    "    ax.set_title('Porosity');\n",
    "\n",
    "    #Add plot commands here\n",
    "    \n",
    "    return fig"
   ]
  },
  {
   "cell_type": "code",
   "execution_count": null,
   "metadata": {},
   "outputs": [],
   "source": []
  }
 ],
 "metadata": {
  "kernelspec": {
   "display_name": "base",
   "language": "python",
   "name": "python3"
  },
  "language_info": {
   "codemirror_mode": {
    "name": "ipython",
    "version": 3
   },
   "file_extension": ".py",
   "mimetype": "text/x-python",
   "name": "python",
   "nbconvert_exporter": "python",
   "pygments_lexer": "ipython3",
   "version": "3.11.9"
  }
 },
 "nbformat": 4,
 "nbformat_minor": 4
}
